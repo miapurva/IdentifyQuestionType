{
 "cells": [
  {
   "cell_type": "code",
   "execution_count": 91,
   "metadata": {},
   "outputs": [],
   "source": [
    "import pandas as pd\n",
    "import pickle\n",
    "import re\n",
    "from sklearn.model_selection import train_test_split\n",
    "from sklearn.feature_extraction.text import CountVectorizer\n",
    "from sklearn import metrics\n",
    "from sklearn import svm, datasets\n",
    "from sklearn.linear_model import RidgeClassifier\n",
    "from sklearn.linear_model import Perceptron\n",
    "from sklearn.linear_model import PassiveAggressiveClassifier\n",
    "from sklearn.naive_bayes import BernoulliNB, MultinomialNB\n",
    "from sklearn.neighbors import KNeighborsClassifier\n",
    "from sklearn.ensemble import RandomForestClassifier\n",
    "from sklearn.ensemble import VotingClassifier\n",
    "import pickle\n",
    "import os"
   ]
  },
  {
   "cell_type": "code",
   "execution_count": 92,
   "metadata": {},
   "outputs": [],
   "source": [
    "df = pd.read_csv(\"data/labelledData.txt\",sep=\",,,\",header=None ,names=['question','type'],engine='python')\n",
    "df['type']=df['type'].str.strip()\n",
    "y = df['type']\n",
    "X = df['question']"
   ]
  },
  {
   "cell_type": "code",
   "execution_count": 93,
   "metadata": {},
   "outputs": [
    {
     "data": {
      "text/html": [
       "<div>\n",
       "<style scoped>\n",
       "    .dataframe tbody tr th:only-of-type {\n",
       "        vertical-align: middle;\n",
       "    }\n",
       "\n",
       "    .dataframe tbody tr th {\n",
       "        vertical-align: top;\n",
       "    }\n",
       "\n",
       "    .dataframe thead th {\n",
       "        text-align: right;\n",
       "    }\n",
       "</style>\n",
       "<table border=\"1\" class=\"dataframe\">\n",
       "  <thead>\n",
       "    <tr style=\"text-align: right;\">\n",
       "      <th></th>\n",
       "      <th>question</th>\n",
       "      <th>type</th>\n",
       "    </tr>\n",
       "  </thead>\n",
       "  <tbody>\n",
       "    <tr>\n",
       "      <th>0</th>\n",
       "      <td>how did serfdom develop in and then leave russ...</td>\n",
       "      <td>unknown</td>\n",
       "    </tr>\n",
       "    <tr>\n",
       "      <th>1</th>\n",
       "      <td>what films featured the character popeye doyle ?</td>\n",
       "      <td>what</td>\n",
       "    </tr>\n",
       "    <tr>\n",
       "      <th>2</th>\n",
       "      <td>how can i find a list of celebrities ' real na...</td>\n",
       "      <td>unknown</td>\n",
       "    </tr>\n",
       "    <tr>\n",
       "      <th>3</th>\n",
       "      <td>what fowl grabs the spotlight after the chines...</td>\n",
       "      <td>what</td>\n",
       "    </tr>\n",
       "    <tr>\n",
       "      <th>4</th>\n",
       "      <td>what is the full form of .com ?</td>\n",
       "      <td>what</td>\n",
       "    </tr>\n",
       "    <tr>\n",
       "      <th>5</th>\n",
       "      <td>what contemptible scoundrel stole the cork fro...</td>\n",
       "      <td>what</td>\n",
       "    </tr>\n",
       "    <tr>\n",
       "      <th>6</th>\n",
       "      <td>what team did baseball 's st. louis browns bec...</td>\n",
       "      <td>what</td>\n",
       "    </tr>\n",
       "    <tr>\n",
       "      <th>7</th>\n",
       "      <td>what is the oldest profession ?</td>\n",
       "      <td>what</td>\n",
       "    </tr>\n",
       "    <tr>\n",
       "      <th>8</th>\n",
       "      <td>what are liver enzymes ?</td>\n",
       "      <td>what</td>\n",
       "    </tr>\n",
       "    <tr>\n",
       "      <th>9</th>\n",
       "      <td>name the scar-faced bounty hunter of the old w...</td>\n",
       "      <td>unknown</td>\n",
       "    </tr>\n",
       "  </tbody>\n",
       "</table>\n",
       "</div>"
      ],
      "text/plain": [
       "                                            question     type\n",
       "0  how did serfdom develop in and then leave russ...  unknown\n",
       "1  what films featured the character popeye doyle ?      what\n",
       "2  how can i find a list of celebrities ' real na...  unknown\n",
       "3  what fowl grabs the spotlight after the chines...     what\n",
       "4                   what is the full form of .com ?      what\n",
       "5  what contemptible scoundrel stole the cork fro...     what\n",
       "6  what team did baseball 's st. louis browns bec...     what\n",
       "7                   what is the oldest profession ?      what\n",
       "8                          what are liver enzymes ?      what\n",
       "9  name the scar-faced bounty hunter of the old w...  unknown"
      ]
     },
     "execution_count": 93,
     "metadata": {},
     "output_type": "execute_result"
    }
   ],
   "source": [
    "df.to_csv(\"data/labelledData\", encoding='utf-8', index=False)\n",
    "df.head(10)"
   ]
  },
  {
   "cell_type": "code",
   "execution_count": 94,
   "metadata": {},
   "outputs": [],
   "source": [
    "def save_model(model,model_name):\n",
    "    model_file = os.path.join(os.getcwd(),model_name+'.pkl')\n",
    "    with open(model_file, 'wb') as f:\n",
    "        pickle.dump(model, f)\n",
    "\n",
    "def classifiers(clf,X,y):\n",
    "#     if tf_idf:\n",
    "#         vectorizer =  TfidfVectorizer(sublinear_tf=True, max_df=0.5,\n",
    "#                                      stop_words='english')\n",
    "    \n",
    "    vectorizer = CountVectorizer(analyzer='word',lowercase=True)\n",
    "        \n",
    "    \n",
    "    X_train, X_test, y_train, y_test = train_test_split(\n",
    "                                             X, y, \n",
    "                                             test_size=0.35,random_state=52)\n",
    "    trainX = vectorizer.fit_transform(X_train)\n",
    "    testX = vectorizer.transform(X_test)\n",
    "\n",
    "    print(\"Training: \")\n",
    "    print(clf)\n",
    "    \n",
    "    clf.fit(trainX, y_train)\n",
    "    \n",
    "    pred = clf.predict(testX)\n",
    "    \n",
    "    score = metrics.accuracy_score(y_test, pred)\n",
    "    print(\"accuracy:   %0.3f\" % score)\n",
    "    \n",
    "    return vectorizer"
   ]
  },
  {
   "cell_type": "code",
   "execution_count": 116,
   "metadata": {},
   "outputs": [
    {
     "name": "stdout",
     "output_type": "stream",
     "text": [
      "Training: \n",
      "VotingClassifier(estimators=[('rc',\n",
      "                              RidgeClassifier(alpha=1.0, class_weight=None,\n",
      "                                              copy_X=True, fit_intercept=True,\n",
      "                                              max_iter=None, normalize=False,\n",
      "                                              random_state=None, solver='auto',\n",
      "                                              tol=0.01)),\n",
      "                             ('pc',\n",
      "                              Perceptron(alpha=0.0001, class_weight=None,\n",
      "                                         early_stopping=False, eta0=1.0,\n",
      "                                         fit_intercept=True, max_iter=100,\n",
      "                                         n_iter_no_change=5, n_jobs=None,\n",
      "                                         penalty=None, random_state=...\n",
      "                                                     min_samples_leaf=1,\n",
      "                                                     min_samples_split=2,\n",
      "                                                     min_weight_fraction_leaf=0.0,\n",
      "                                                     n_estimators=200,\n",
      "                                                     n_jobs=None,\n",
      "                                                     oob_score=False,\n",
      "                                                     random_state=None,\n",
      "                                                     verbose=0,\n",
      "                                                     warm_start=False)),\n",
      "                             ('bnb',\n",
      "                              BernoulliNB(alpha=0.01, binarize=0.0,\n",
      "                                          class_prior=None, fit_prior=True)),\n",
      "                             ('mnb',\n",
      "                              MultinomialNB(alpha=0.01, class_prior=None,\n",
      "                                            fit_prior=True))],\n",
      "                 flatten_transform=True, n_jobs=None, voting='hard',\n",
      "                 weights=None)\n",
      "accuracy:   0.971\n"
     ]
    }
   ],
   "source": [
    "if __name__==\"__main__\":\n",
    "    clf0 = RidgeClassifier(tol=1e-2, solver=\"auto\")\n",
    "#     classifiers(clf0, X,y)\n",
    "    \n",
    "    clf1=Perceptron(max_iter=100,random_state=42)\n",
    "#     classifiers(clf1,X,y)\n",
    "    \n",
    "    clf2=PassiveAggressiveClassifier(max_iter=100)\n",
    "#     classifiers(clf1,X,y)\n",
    "    \n",
    "    clf3 = KNeighborsClassifier(n_neighbors=4)\n",
    "#     classifiers(clf2,X,y)\n",
    "\n",
    "    clf4 = RandomForestClassifier(n_estimators=100)\n",
    "#     classifiers(clf4,X,y)\n",
    "\n",
    "    clf5 = BernoulliNB(alpha=.01)\n",
    "#     classifiers(clf5,X,y)\n",
    "\n",
    "    clf6 = MultinomialNB(alpha=0.01)\n",
    "#     classifiers(clf6,X,y)\n",
    "\n",
    "    eclf = VotingClassifier(estimators=[('rc', clf0),('pc', clf1), ('pac', clf2), ('knn', clf3), ('rfc', clf4), ('bnb', clf5), ('mnb', clf6)], voting='hard')\n",
    "\n",
    "    k=classifiers(eclf,X,y)\n",
    "#     print(k)"
   ]
  },
  {
   "cell_type": "code",
   "execution_count": 72,
   "metadata": {},
   "outputs": [],
   "source": [
    "save_model(eclf,'model/model')\n",
    "save_model(k,'model/vectorizer')\n",
    "# 0.975"
   ]
  },
  {
   "cell_type": "code",
   "execution_count": 7,
   "metadata": {},
   "outputs": [
    {
     "name": "stdout",
     "output_type": "stream",
     "text": [
      "['when']\n"
     ]
    }
   ],
   "source": []
  }
 ],
 "metadata": {
  "kernelspec": {
   "display_name": "Python 3",
   "language": "python",
   "name": "python3"
  },
  "language_info": {
   "codemirror_mode": {
    "name": "ipython",
    "version": 3
   },
   "file_extension": ".py",
   "mimetype": "text/x-python",
   "name": "python",
   "nbconvert_exporter": "python",
   "pygments_lexer": "ipython3",
   "version": "3.7.6"
  }
 },
 "nbformat": 4,
 "nbformat_minor": 2
}
