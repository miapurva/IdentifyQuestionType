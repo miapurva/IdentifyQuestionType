{
 "cells": [
  {
   "cell_type": "code",
   "execution_count": 1,
   "metadata": {
    "scrolled": true
   },
   "outputs": [
    {
     "name": "stdout",
     "output_type": "stream",
     "text": [
      "Your question: What time does the train leave?\n",
      "['Type: when']\n"
     ]
    }
   ],
   "source": [
    "import os\n",
    "import pickle\n",
    "\n",
    "\n",
    "def load_model(model_name):\n",
    "    model_file = os.path.join(os.getcwd(),model_name+'.pkl')\n",
    "    with open(model_file, 'rb') as f:\n",
    "        model = pickle.load(f)\n",
    "    return model\n",
    "\n",
    "\n",
    "\n",
    "model = load_model(model_name='model/model')\n",
    "vectorizer = load_model(model_name='model/vectorizer')\n",
    "\n",
    "text=str(input(\"Your question: \"))\n",
    "\n",
    "new_data=[]\n",
    "new_data.insert(0,text)\n",
    "\n",
    "query = vectorizer.transform(new_data)\n",
    "pred = model.predict(query)\n",
    "print(\"Type: \"+pred)\n",
    "\n",
    "\n",
    "\n"
   ]
  }
 ],
 "metadata": {
  "kernelspec": {
   "display_name": "Python 3",
   "language": "python",
   "name": "python3"
  },
  "language_info": {
   "codemirror_mode": {
    "name": "ipython",
    "version": 3
   },
   "file_extension": ".py",
   "mimetype": "text/x-python",
   "name": "python",
   "nbconvert_exporter": "python",
   "pygments_lexer": "ipython3",
   "version": "3.7.6"
  }
 },
 "nbformat": 4,
 "nbformat_minor": 4
}
