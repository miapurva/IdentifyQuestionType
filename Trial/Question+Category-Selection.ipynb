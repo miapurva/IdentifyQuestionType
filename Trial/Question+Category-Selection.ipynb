{
 "cells": [
  {
   "cell_type": "code",
   "execution_count": 1,
   "metadata": {},
   "outputs": [],
   "source": [
    "import pandas as pd\n",
    "import pickle\n",
    "import re\n",
    "from sklearn.model_selection import train_test_split\n",
    "from sklearn.feature_extraction.text import CountVectorizer\n",
    "from sklearn.naive_bayes import MultinomialNB\n",
    "from sklearn import metrics"
   ]
  },
  {
   "cell_type": "code",
   "execution_count": 2,
   "metadata": {},
   "outputs": [],
   "source": [
    "df = pd.read_csv(\"data/labelledData.txt\",sep=\",,,\",header=None ,names=['question','type'],engine='python')\n",
    "df['type']=df['type'].str.strip()"
   ]
  },
  {
   "cell_type": "code",
   "execution_count": 3,
   "metadata": {},
   "outputs": [],
   "source": [
    "df.to_csv(\"data/labelledData\", encoding='utf-8', index=False)"
   ]
  },
  {
   "cell_type": "code",
   "execution_count": 4,
   "metadata": {},
   "outputs": [
    {
     "data": {
      "text/html": [
       "<div>\n",
       "<style scoped>\n",
       "    .dataframe tbody tr th:only-of-type {\n",
       "        vertical-align: middle;\n",
       "    }\n",
       "\n",
       "    .dataframe tbody tr th {\n",
       "        vertical-align: top;\n",
       "    }\n",
       "\n",
       "    .dataframe thead th {\n",
       "        text-align: right;\n",
       "    }\n",
       "</style>\n",
       "<table border=\"1\" class=\"dataframe\">\n",
       "  <thead>\n",
       "    <tr style=\"text-align: right;\">\n",
       "      <th></th>\n",
       "      <th>question</th>\n",
       "      <th>type</th>\n",
       "    </tr>\n",
       "  </thead>\n",
       "  <tbody>\n",
       "    <tr>\n",
       "      <th>0</th>\n",
       "      <td>how did serfdom develop in and then leave russ...</td>\n",
       "      <td>unknown</td>\n",
       "    </tr>\n",
       "    <tr>\n",
       "      <th>1</th>\n",
       "      <td>what films featured the character popeye doyle ?</td>\n",
       "      <td>what</td>\n",
       "    </tr>\n",
       "    <tr>\n",
       "      <th>2</th>\n",
       "      <td>how can i find a list of celebrities ' real na...</td>\n",
       "      <td>unknown</td>\n",
       "    </tr>\n",
       "    <tr>\n",
       "      <th>3</th>\n",
       "      <td>what fowl grabs the spotlight after the chines...</td>\n",
       "      <td>what</td>\n",
       "    </tr>\n",
       "    <tr>\n",
       "      <th>4</th>\n",
       "      <td>what is the full form of .com ?</td>\n",
       "      <td>what</td>\n",
       "    </tr>\n",
       "    <tr>\n",
       "      <th>5</th>\n",
       "      <td>what contemptible scoundrel stole the cork fro...</td>\n",
       "      <td>what</td>\n",
       "    </tr>\n",
       "    <tr>\n",
       "      <th>6</th>\n",
       "      <td>what team did baseball 's st. louis browns bec...</td>\n",
       "      <td>what</td>\n",
       "    </tr>\n",
       "    <tr>\n",
       "      <th>7</th>\n",
       "      <td>what is the oldest profession ?</td>\n",
       "      <td>what</td>\n",
       "    </tr>\n",
       "    <tr>\n",
       "      <th>8</th>\n",
       "      <td>what are liver enzymes ?</td>\n",
       "      <td>what</td>\n",
       "    </tr>\n",
       "    <tr>\n",
       "      <th>9</th>\n",
       "      <td>name the scar-faced bounty hunter of the old w...</td>\n",
       "      <td>unknown</td>\n",
       "    </tr>\n",
       "  </tbody>\n",
       "</table>\n",
       "</div>"
      ],
      "text/plain": [
       "                                            question     type\n",
       "0  how did serfdom develop in and then leave russ...  unknown\n",
       "1  what films featured the character popeye doyle ?      what\n",
       "2  how can i find a list of celebrities ' real na...  unknown\n",
       "3  what fowl grabs the spotlight after the chines...     what\n",
       "4                   what is the full form of .com ?      what\n",
       "5  what contemptible scoundrel stole the cork fro...     what\n",
       "6  what team did baseball 's st. louis browns bec...     what\n",
       "7                   what is the oldest profession ?      what\n",
       "8                          what are liver enzymes ?      what\n",
       "9  name the scar-faced bounty hunter of the old w...  unknown"
      ]
     },
     "execution_count": 4,
     "metadata": {},
     "output_type": "execute_result"
    }
   ],
   "source": [
    "df.head(10)"
   ]
  },
  {
   "cell_type": "code",
   "execution_count": 5,
   "metadata": {},
   "outputs": [],
   "source": [
    "vectorizer = CountVectorizer(stop_words='english')\n",
    "X = vectorizer.fit_transform(df['question'])\n",
    "\n",
    "nb_classifier = MultinomialNB()\n",
    "\n",
    "# count_test = count_vectorizer.transform(X_test.values)"
   ]
  },
  {
   "cell_type": "code",
   "execution_count": 6,
   "metadata": {},
   "outputs": [],
   "source": [
    "y = df['type']\n",
    "X_train, X_test, y_train, y_test = train_test_split(\n",
    "                                             X, y, \n",
    "                                             test_size=0.35, \n",
    "                                             random_state=52)"
   ]
  },
  {
   "cell_type": "code",
   "execution_count": 7,
   "metadata": {},
   "outputs": [],
   "source": [
    "# print(count_vectorizer.get_feature_names()[:10])"
   ]
  },
  {
   "cell_type": "code",
   "execution_count": 8,
   "metadata": {},
   "outputs": [
    {
     "data": {
      "text/plain": [
       "MultinomialNB(alpha=1.0, class_prior=None, fit_prior=True)"
      ]
     },
     "execution_count": 8,
     "metadata": {},
     "output_type": "execute_result"
    }
   ],
   "source": [
    "nb_classifier.fit(X_train, y_train)"
   ]
  },
  {
   "cell_type": "code",
   "execution_count": 9,
   "metadata": {},
   "outputs": [],
   "source": [
    "f = open('model/nb_classifier.pickle', 'wb')\n",
    "pickle.dump(nb_classifier, f)\n",
    "f.close()\n",
    "\n",
    "f = open('model/count_vectorizer.pickle', 'wb')\n",
    "pickle.dump(vectorizer, f)\n",
    "f.close()"
   ]
  },
  {
   "cell_type": "code",
   "execution_count": 10,
   "metadata": {},
   "outputs": [
    {
     "data": {
      "text/plain": [
       "array(['what', 'what', 'what', 'what', 'unknown', 'who', 'what', 'what',\n",
       "       'what', 'what', 'unknown', 'who', 'who', 'what', 'what', 'who',\n",
       "       'who', 'who', 'what', 'what', 'unknown', 'what', 'what', 'what',\n",
       "       'what', 'what', 'what', 'who', 'who', 'who', 'unknown', 'what',\n",
       "       'what', 'unknown', 'what', 'unknown', 'what', 'unknown', 'what',\n",
       "       'what', 'what', 'unknown', 'what', 'who', 'what', 'who', 'who',\n",
       "       'what', 'when', 'affirmation', 'what', 'who', 'what', 'who',\n",
       "       'what', 'what', 'what', 'who', 'what', 'what', 'unknown', 'what',\n",
       "       'what', 'what', 'unknown', 'what', 'what', 'when', 'what', 'what',\n",
       "       'what', 'what', 'what', 'what', 'what', 'who', 'affirmation',\n",
       "       'when', 'unknown', 'what', 'what', 'what', 'what', 'what', 'who',\n",
       "       'what', 'what', 'affirmation', 'unknown', 'what', 'unknown',\n",
       "       'what', 'affirmation', 'what', 'what', 'unknown', 'what',\n",
       "       'affirmation', 'what', 'what', 'who', 'unknown', 'what', 'what',\n",
       "       'who', 'who', 'what', 'who', 'what', 'what', 'what', 'what', 'who',\n",
       "       'what', 'what', 'who', 'what', 'affirmation', 'what', 'what',\n",
       "       'who', 'what', 'what', 'who', 'who', 'what', 'what', 'unknown',\n",
       "       'what', 'what', 'what', 'who', 'who', 'unknown', 'who', 'what',\n",
       "       'what', 'unknown', 'what', 'what', 'what', 'unknown', 'what',\n",
       "       'what', 'who', 'what', 'who', 'who', 'what', 'unknown', 'what',\n",
       "       'who', 'who', 'what', 'affirmation', 'unknown', 'what', 'what',\n",
       "       'who', 'what', 'who', 'what', 'who', 'what', 'what', 'unknown',\n",
       "       'what', 'what', 'what', 'what', 'unknown', 'unknown', 'what',\n",
       "       'what', 'what', 'what', 'who', 'who', 'who', 'who', 'who', 'what',\n",
       "       'who', 'what', 'what', 'what', 'affirmation', 'what', 'who', 'who',\n",
       "       'what', 'what', 'affirmation', 'what', 'what', 'unknown', 'who',\n",
       "       'what', 'what', 'what', 'what', 'what', 'who', 'what', 'unknown',\n",
       "       'who', 'unknown', 'when', 'what', 'who', 'what', 'who', 'what',\n",
       "       'what', 'unknown', 'what', 'what', 'what', 'who', 'what', 'what',\n",
       "       'what', 'what', 'what', 'who', 'what', 'what', 'what', 'what',\n",
       "       'who', 'what', 'who', 'what', 'unknown', 'what', 'what', 'who',\n",
       "       'who', 'affirmation', 'what', 'what', 'unknown', 'what', 'who',\n",
       "       'when', 'who', 'what', 'who', 'what', 'what', 'unknown', 'what',\n",
       "       'who', 'unknown', 'what', 'what', 'what', 'affirmation', 'unknown',\n",
       "       'what', 'what', 'affirmation', 'what', 'affirmation', 'what',\n",
       "       'what', 'what', 'unknown', 'what', 'affirmation', 'who', 'what',\n",
       "       'what', 'what', 'what', 'unknown', 'what', 'who', 'who', 'what',\n",
       "       'what', 'what', 'what', 'what', 'what', 'what', 'who', 'who',\n",
       "       'who', 'what', 'what', 'what', 'who', 'what', 'what', 'what',\n",
       "       'what', 'unknown', 'unknown', 'unknown', 'what', 'unknown', 'who',\n",
       "       'who', 'what', 'what', 'who', 'who', 'what', 'unknown', 'unknown',\n",
       "       'what', 'what', 'who', 'who', 'what', 'what', 'what', 'who', 'who',\n",
       "       'what', 'what', 'what', 'what', 'what', 'what', 'unknown', 'who',\n",
       "       'who', 'unknown', 'what', 'what', 'unknown', 'what', 'unknown',\n",
       "       'who', 'what', 'who', 'who', 'who', 'what', 'who', 'affirmation',\n",
       "       'what', 'who', 'who', 'affirmation', 'who', 'what', 'who', 'what',\n",
       "       'what', 'what', 'affirmation', 'what', 'unknown', 'who', 'what',\n",
       "       'unknown', 'what', 'who', 'what', 'unknown', 'what', 'who', 'who',\n",
       "       'what', 'what', 'what', 'who', 'who', 'what', 'unknown', 'who',\n",
       "       'what', 'what', 'what', 'what', 'what', 'who', 'who', 'who',\n",
       "       'what', 'what', 'unknown', 'what', 'who', 'what', 'what',\n",
       "       'unknown', 'affirmation', 'what', 'who', 'who', 'what', 'unknown',\n",
       "       'what', 'what', 'what', 'what', 'what', 'what', 'what', 'who',\n",
       "       'what', 'who', 'what', 'what', 'what', 'unknown', 'what', 'who',\n",
       "       'what', 'what', 'who', 'what', 'what', 'what', 'who', 'what',\n",
       "       'what', 'who', 'when', 'what', 'affirmation', 'what', 'what',\n",
       "       'who', 'who', 'what', 'what', 'who', 'what', 'unknown', 'what',\n",
       "       'what', 'who', 'what', 'who', 'who', 'who', 'what', 'when',\n",
       "       'unknown', 'unknown', 'what', 'what', 'what', 'what', 'what',\n",
       "       'what', 'who', 'what', 'what', 'who', 'affirmation', 'what', 'who',\n",
       "       'who', 'unknown', 'unknown', 'affirmation', 'what', 'unknown',\n",
       "       'who', 'unknown', 'what', 'what', 'who', 'what', 'what', 'when',\n",
       "       'what', 'who', 'what', 'who', 'when', 'what', 'what',\n",
       "       'affirmation', 'what', 'what', 'what', 'who', 'unknown', 'what',\n",
       "       'what', 'what', 'who', 'who', 'when', 'who', 'affirmation', 'what',\n",
       "       'unknown', 'what', 'what', 'who', 'what', 'what', 'who', 'who',\n",
       "       'who', 'what', 'what', 'unknown', 'what', 'what', 'unknown',\n",
       "       'when', 'who', 'what', 'what', 'what', 'who', 'unknown', 'who',\n",
       "       'what', 'what', 'what'], dtype='<U11')"
      ]
     },
     "execution_count": 10,
     "metadata": {},
     "output_type": "execute_result"
    }
   ],
   "source": [
    "predictions = nb_classifier.predict(X_test)\n",
    "predictions"
   ]
  },
  {
   "cell_type": "code",
   "execution_count": 11,
   "metadata": {},
   "outputs": [
    {
     "data": {
      "text/plain": [
       "0.5576923076923077"
      ]
     },
     "execution_count": 11,
     "metadata": {},
     "output_type": "execute_result"
    }
   ],
   "source": [
    "metrics.accuracy_score(y_test, predictions)"
   ]
  },
  {
   "cell_type": "code",
   "execution_count": 12,
   "metadata": {},
   "outputs": [],
   "source": [
    "# print(X_test[10])"
   ]
  },
  {
   "cell_type": "code",
   "execution_count": 13,
   "metadata": {},
   "outputs": [
    {
     "name": "stdout",
     "output_type": "stream",
     "text": [
      "['unknown']\n"
     ]
    }
   ],
   "source": [
    "new_data=[]\n",
    "new_test =\"What time does the train leave?\"\n",
    "#new_data.insert(0,X_test.values[1])\n",
    "new_data.insert(0,new_test)\n",
    "new_vector =vectorizer.transform(new_data)\n",
    "pred = nb_classifier.predict(new_vector)\n",
    "print(pred)"
   ]
  }
 ],
 "metadata": {
  "kernelspec": {
   "display_name": "Python 3",
   "language": "python",
   "name": "python3"
  },
  "language_info": {
   "codemirror_mode": {
    "name": "ipython",
    "version": 3
   },
   "file_extension": ".py",
   "mimetype": "text/x-python",
   "name": "python",
   "nbconvert_exporter": "python",
   "pygments_lexer": "ipython3",
   "version": "3.7.6"
  }
 },
 "nbformat": 4,
 "nbformat_minor": 2
}
